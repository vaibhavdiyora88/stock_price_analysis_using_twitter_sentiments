{
 "cells": [
  {
   "cell_type": "code",
   "execution_count": 1,
   "metadata": {},
   "outputs": [],
   "source": [
    "import numpy\n",
    "import pandas as pd\n",
    "import tweepy\n",
    "import json\n",
    "import urllib.request, urllib.error, urllib.parse\n",
    "import html\n",
    "from tkinter import *"
   ]
  },
  {
   "cell_type": "code",
   "execution_count": 47,
   "metadata": {
    "scrolled": false
   },
   "outputs": [],
   "source": [
    "tweets = []\n",
    "for line in open('stream_tesla.txt', 'r'):\n",
    "    tweets.append(json.loads(line))"
   ]
  },
  {
   "cell_type": "code",
   "execution_count": 48,
   "metadata": {},
   "outputs": [],
   "source": [
    "li=[]\n",
    "tweet_date=[]\n",
    "tweet_id=[]\n",
    "text=[]\n",
    "user_id=[]\n",
    "username=[]\n",
    "userLocation=[]\n",
    "followersCount=[]\n",
    "friendsCount=[]\n",
    "statusesCount=[]\n",
    "favouriteCount=[]\n",
    "verified=[]\n",
    "for x in tweets:\n",
    "    \n",
    "    tweet_date.append(x[\"created_at\"])\n",
    "    tweet_id.append(x[\"id\"])\n",
    "    text.append(x[\"text\"])\n",
    "    user_id.append(x[\"user\"][\"id\"])\n",
    "    username.append(x[\"user\"][\"name\"])\n",
    "    userLocation.append(x[\"user\"][\"location\"])\n",
    "    followersCount.append(x[\"user\"][\"followers_count\"])\n",
    "    friendsCount.append(x[\"user\"][\"friends_count\"])\n",
    "    statusesCount.append(x[\"user\"][\"statuses_count\"])\n",
    "    favouriteCount.append(x[\"user\"][\"favourites_count\"])\n",
    "    verified.append(x[\"user\"][\"verified\"])\n",
    "    "
   ]
  },
  {
   "cell_type": "code",
   "execution_count": 49,
   "metadata": {},
   "outputs": [],
   "source": [
    "df = pd.DataFrame({\"tweet_date\":tweet_date, \"tweet_id\":tweet_id,\"text\": text,\"user_id\": user_id,\"username\": username, \"userLocation\":userLocation, \"followersCount\":followersCount, \"friendsCount\":friendsCount, \"statusesCount\":statusesCount, \"favouriteCount\":favouriteCount, \"verified\":verified})"
   ]
  },
  {
   "cell_type": "code",
   "execution_count": 50,
   "metadata": {},
   "outputs": [
    {
     "data": {
      "text/plain": [
       "3458"
      ]
     },
     "execution_count": 50,
     "metadata": {},
     "output_type": "execute_result"
    }
   ],
   "source": [
    "len(df)"
   ]
  },
  {
   "cell_type": "code",
   "execution_count": 51,
   "metadata": {},
   "outputs": [
    {
     "data": {
      "text/html": [
       "<div>\n",
       "<style scoped>\n",
       "    .dataframe tbody tr th:only-of-type {\n",
       "        vertical-align: middle;\n",
       "    }\n",
       "\n",
       "    .dataframe tbody tr th {\n",
       "        vertical-align: top;\n",
       "    }\n",
       "\n",
       "    .dataframe thead th {\n",
       "        text-align: right;\n",
       "    }\n",
       "</style>\n",
       "<table border=\"1\" class=\"dataframe\">\n",
       "  <thead>\n",
       "    <tr style=\"text-align: right;\">\n",
       "      <th></th>\n",
       "      <th>tweet_date</th>\n",
       "      <th>tweet_id</th>\n",
       "      <th>text</th>\n",
       "      <th>user_id</th>\n",
       "      <th>username</th>\n",
       "      <th>userLocation</th>\n",
       "      <th>followersCount</th>\n",
       "      <th>friendsCount</th>\n",
       "      <th>statusesCount</th>\n",
       "      <th>favouriteCount</th>\n",
       "      <th>verified</th>\n",
       "    </tr>\n",
       "  </thead>\n",
       "  <tbody>\n",
       "    <tr>\n",
       "      <th>0</th>\n",
       "      <td>Thu Dec 13 00:16:28 +0000 2018</td>\n",
       "      <td>1073008719368048642</td>\n",
       "      <td>@FairDinkumCap DiCaprio hooked up with BYD. #T...</td>\n",
       "      <td>263005044</td>\n",
       "      <td>Kawasook</td>\n",
       "      <td>Huntington Beach, CA</td>\n",
       "      <td>834</td>\n",
       "      <td>2687</td>\n",
       "      <td>11879</td>\n",
       "      <td>31550</td>\n",
       "      <td>False</td>\n",
       "    </tr>\n",
       "    <tr>\n",
       "      <th>1</th>\n",
       "      <td>Thu Dec 13 00:16:30 +0000 2018</td>\n",
       "      <td>1073008725735161856</td>\n",
       "      <td>Ah yes, yet another two-Tesla owner.  From Hob...</td>\n",
       "      <td>875784434041147393</td>\n",
       "      <td>CrowPointPartners</td>\n",
       "      <td>Boston, MA</td>\n",
       "      <td>2506</td>\n",
       "      <td>514</td>\n",
       "      <td>4862</td>\n",
       "      <td>2121</td>\n",
       "      <td>False</td>\n",
       "    </tr>\n",
       "    <tr>\n",
       "      <th>2</th>\n",
       "      <td>Thu Dec 13 00:16:37 +0000 2018</td>\n",
       "      <td>1073008757070839820</td>\n",
       "      <td>RT @nataliesurely: The workers who fought to w...</td>\n",
       "      <td>2790648792</td>\n",
       "      <td>Oliver Holtaway</td>\n",
       "      <td>Bath, Bristol &amp; London</td>\n",
       "      <td>457</td>\n",
       "      <td>424</td>\n",
       "      <td>2183</td>\n",
       "      <td>1632</td>\n",
       "      <td>False</td>\n",
       "    </tr>\n",
       "    <tr>\n",
       "      <th>3</th>\n",
       "      <td>Thu Dec 13 00:16:38 +0000 2018</td>\n",
       "      <td>1073008761130803200</td>\n",
       "      <td>@kirstiealley @elonmusk At the cost of the Ame...</td>\n",
       "      <td>1057480999943032832</td>\n",
       "      <td>Pac_Watson</td>\n",
       "      <td>California, USA</td>\n",
       "      <td>288</td>\n",
       "      <td>346</td>\n",
       "      <td>754</td>\n",
       "      <td>2973</td>\n",
       "      <td>False</td>\n",
       "    </tr>\n",
       "    <tr>\n",
       "      <th>4</th>\n",
       "      <td>Thu Dec 13 00:16:41 +0000 2018</td>\n",
       "      <td>1073008772287815681</td>\n",
       "      <td>RT @markbspiegel: \"Audi e-tron Makes Switching...</td>\n",
       "      <td>1424640954</td>\n",
       "      <td>Peter Roselle</td>\n",
       "      <td>Florida, USA</td>\n",
       "      <td>415</td>\n",
       "      <td>1234</td>\n",
       "      <td>10297</td>\n",
       "      <td>36843</td>\n",
       "      <td>False</td>\n",
       "    </tr>\n",
       "  </tbody>\n",
       "</table>\n",
       "</div>"
      ],
      "text/plain": [
       "                       tweet_date             tweet_id  \\\n",
       "0  Thu Dec 13 00:16:28 +0000 2018  1073008719368048642   \n",
       "1  Thu Dec 13 00:16:30 +0000 2018  1073008725735161856   \n",
       "2  Thu Dec 13 00:16:37 +0000 2018  1073008757070839820   \n",
       "3  Thu Dec 13 00:16:38 +0000 2018  1073008761130803200   \n",
       "4  Thu Dec 13 00:16:41 +0000 2018  1073008772287815681   \n",
       "\n",
       "                                                text              user_id  \\\n",
       "0  @FairDinkumCap DiCaprio hooked up with BYD. #T...            263005044   \n",
       "1  Ah yes, yet another two-Tesla owner.  From Hob...   875784434041147393   \n",
       "2  RT @nataliesurely: The workers who fought to w...           2790648792   \n",
       "3  @kirstiealley @elonmusk At the cost of the Ame...  1057480999943032832   \n",
       "4  RT @markbspiegel: \"Audi e-tron Makes Switching...           1424640954   \n",
       "\n",
       "            username            userLocation  followersCount  friendsCount  \\\n",
       "0           Kawasook    Huntington Beach, CA             834          2687   \n",
       "1  CrowPointPartners              Boston, MA            2506           514   \n",
       "2    Oliver Holtaway  Bath, Bristol & London             457           424   \n",
       "3         Pac_Watson         California, USA             288           346   \n",
       "4      Peter Roselle            Florida, USA             415          1234   \n",
       "\n",
       "   statusesCount  favouriteCount  verified  \n",
       "0          11879           31550     False  \n",
       "1           4862            2121     False  \n",
       "2           2183            1632     False  \n",
       "3            754            2973     False  \n",
       "4          10297           36843     False  "
      ]
     },
     "execution_count": 51,
     "metadata": {},
     "output_type": "execute_result"
    }
   ],
   "source": [
    "df.head()"
   ]
  },
  {
   "cell_type": "code",
   "execution_count": 52,
   "metadata": {},
   "outputs": [],
   "source": [
    "df.to_csv(\"tesla.csv\")"
   ]
  },
  {
   "cell_type": "code",
   "execution_count": null,
   "metadata": {},
   "outputs": [],
   "source": []
  }
 ],
 "metadata": {
  "kernelspec": {
   "display_name": "Python 3",
   "language": "python",
   "name": "python3"
  },
  "language_info": {
   "codemirror_mode": {
    "name": "ipython",
    "version": 3
   },
   "file_extension": ".py",
   "mimetype": "text/x-python",
   "name": "python",
   "nbconvert_exporter": "python",
   "pygments_lexer": "ipython3",
   "version": "3.7.0"
  }
 },
 "nbformat": 4,
 "nbformat_minor": 2
}
